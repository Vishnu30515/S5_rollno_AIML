{
  "nbformat": 4,
  "nbformat_minor": 0,
  "metadata": {
    "colab": {
      "provenance": []
    },
    "kernelspec": {
      "name": "python3",
      "display_name": "Python 3"
    },
    "language_info": {
      "name": "python"
    }
  },
  "cells": [
    {
      "cell_type": "markdown",
      "source": [
        "A*"
      ],
      "metadata": {
        "id": "xCbVtb_-evfa"
      }
    },
    {
      "cell_type": "code",
      "execution_count": 1,
      "metadata": {
        "colab": {
          "base_uri": "https://localhost:8080/"
        },
        "id": "GBzyJRt7epAs",
        "outputId": "f7d73142-7189-47e5-b95a-69c9997cb2b6"
      },
      "outputs": [
        {
          "output_type": "stream",
          "name": "stdout",
          "text": [
            "['A', 'B', 'D']\n"
          ]
        }
      ],
      "source": [
        "\n",
        "\n",
        "from heapq import heappush, heappop\n",
        "\n",
        "\n",
        "\n",
        "def astar(start, goal, h, neighbors):\n",
        "\n",
        "    open_set = [(h(start), 0, start, [start])]\n",
        "\n",
        "    visited = set()\n",
        "\n",
        "    while open_set:\n",
        "\n",
        "        est, cost, node, path = heappop(open_set)\n",
        "\n",
        "        if node == goal: return path\n",
        "\n",
        "        if node in visited: continue\n",
        "\n",
        "        visited.add(node)\n",
        "\n",
        "        for neigh, w in neighbors(node):\n",
        "\n",
        "            if neigh not in visited:\n",
        "\n",
        "                g = cost + w\n",
        "\n",
        "                heappush(open_set, (g + h(neigh), g, neigh, path + [neigh]))\n",
        "\n",
        "\n",
        "\n",
        "# Example graph\n",
        "\n",
        "graph = {\n",
        "\n",
        "    'A': {'B': 1, 'C': 3},\n",
        "\n",
        "    'B': {'D': 1, 'E': 5},\n",
        "\n",
        "    'C': {'F': 2},\n",
        "\n",
        "    'D': {}, 'E': {}, 'F': {}\n",
        "\n",
        "}\n",
        "\n",
        "\n",
        "\n",
        "def neighbors(n): return [(k, v) for k, v in graph[n].items()]\n",
        "\n",
        "def h(n): return {'A':4, 'B':3, 'C':2, 'D':0, 'E':0, 'F':0}[n]\n",
        "\n",
        "\n",
        "\n",
        "print(astar('A', 'D', h, neighbors))"
      ]
    },
    {
      "cell_type": "markdown",
      "source": [
        "IDDFS"
      ],
      "metadata": {
        "id": "UQUE7i1bfZLa"
      }
    },
    {
      "cell_type": "code",
      "source": [
        "#iddfs\n",
        "def dls(g, node, depth, visited):\n",
        "    if depth >= 0:\n",
        "        print(node, end=\" \")\n",
        "        visited.add(node)\n",
        "        if depth:\n",
        "            for n in g[node]:\n",
        "                if n not in visited:\n",
        "                    dls(g, n, depth-1, visited)\n",
        "\n",
        "def iddfs(g, start, max_depth):\n",
        "    for d in range(max_depth+1):\n",
        "        dls(g, start, d, set())\n",
        "\n",
        "# Example usage\n",
        "g = {\n",
        "    'A': ['B', 'C'],\n",
        "    'B': ['D', 'E'],\n",
        "    'C': ['F'],\n",
        "    'D': [], 'E': [], 'F': []\n",
        "}\n",
        "iddfs(g, 'A', 3)"
      ],
      "metadata": {
        "colab": {
          "base_uri": "https://localhost:8080/"
        },
        "id": "cpdGrciVfivK",
        "outputId": "bb2eacf4-e802-4941-e915-759825d95fd3"
      },
      "execution_count": 2,
      "outputs": [
        {
          "output_type": "stream",
          "name": "stdout",
          "text": [
            "A A B C A B D E C F A B D E C F "
          ]
        }
      ]
    }
  ]
}